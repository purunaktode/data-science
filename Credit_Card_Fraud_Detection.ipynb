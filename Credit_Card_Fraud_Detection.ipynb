{
 "cells": [
  {
   "cell_type": "code",
   "execution_count": 747,
   "metadata": {
    "collapsed": false
   },
   "outputs": [
    {
     "name": "stdout",
     "output_type": "stream",
     "text": [
      "\u001b[H\u001b[2J"
     ]
    }
   ],
   "source": [
    "%clear"
   ]
  },
  {
   "cell_type": "code",
   "execution_count": 748,
   "metadata": {
    "collapsed": false
   },
   "outputs": [
    {
     "name": "stdout",
     "output_type": "stream",
     "text": [
      "172788,-0.24044005,0.530482513,0.70251023,0.689799168,-0.377961134,0.623707722,-0.686179986,0.67914546,0.392086712,-0.399125651,-1.933848815,-0.962886143,-1.042081656,0.449624443,1.962563121,-0.608577127,0.50992846,1.11398059,2.897848773,0.127433516,0.265244916,0.800048741,-0.163297944,0.123205244,-0.569158864,0.546668462,0.108820735,0.104532821,10,0\r",
      "\r\n",
      "172792,-0.533412522,-0.189733337,0.703337367,-0.50627124,-0.012545679,-0.649616686,1.577006254,-0.414650408,0.486179505,-0.915426649,-1.040458335,-0.031513054,-0.188092901,-0.08431647,0.041333455,-0.302620086,-0.660376645,0.167429934,-0.256116871,0.382948105,0.261057331,0.643078438,0.376777014,0.008797379,-0.473648704,-0.818267121,-0.002415309,0.013648914,217,0\r",
      "\r\n"
     ]
    }
   ],
   "source": [
    "!tail -2 creditcard.csv"
   ]
  },
  {
   "cell_type": "code",
   "execution_count": 749,
   "metadata": {
    "collapsed": true
   },
   "outputs": [],
   "source": [
    "import pandas as pd\n",
    "import matplotlib.pyplot as plt\n",
    "from sklearn.cross_validation import train_test_split\n",
    "from sklearn.grid_search import GridSearchCV"
   ]
  },
  {
   "cell_type": "code",
   "execution_count": 750,
   "metadata": {
    "collapsed": true
   },
   "outputs": [],
   "source": [
    "creditcard = pd.read_csv(\"creditcard.csv\")"
   ]
  },
  {
   "cell_type": "code",
   "execution_count": 751,
   "metadata": {
    "collapsed": false
   },
   "outputs": [
    {
     "data": {
      "text/html": [
       "<div>\n",
       "<table border=\"1\" class=\"dataframe\">\n",
       "  <thead>\n",
       "    <tr style=\"text-align: right;\">\n",
       "      <th></th>\n",
       "      <th>Time</th>\n",
       "      <th>V1</th>\n",
       "      <th>V2</th>\n",
       "      <th>V3</th>\n",
       "      <th>V4</th>\n",
       "      <th>V5</th>\n",
       "      <th>V6</th>\n",
       "      <th>V7</th>\n",
       "      <th>V8</th>\n",
       "      <th>V9</th>\n",
       "      <th>...</th>\n",
       "      <th>V21</th>\n",
       "      <th>V22</th>\n",
       "      <th>V23</th>\n",
       "      <th>V24</th>\n",
       "      <th>V25</th>\n",
       "      <th>V26</th>\n",
       "      <th>V27</th>\n",
       "      <th>V28</th>\n",
       "      <th>Amount</th>\n",
       "      <th>Class</th>\n",
       "    </tr>\n",
       "  </thead>\n",
       "  <tbody>\n",
       "    <tr>\n",
       "      <th>0</th>\n",
       "      <td>0.0</td>\n",
       "      <td>-1.359807</td>\n",
       "      <td>-0.072781</td>\n",
       "      <td>2.536347</td>\n",
       "      <td>1.378155</td>\n",
       "      <td>-0.338321</td>\n",
       "      <td>0.462388</td>\n",
       "      <td>0.239599</td>\n",
       "      <td>0.098698</td>\n",
       "      <td>0.363787</td>\n",
       "      <td>...</td>\n",
       "      <td>-0.018307</td>\n",
       "      <td>0.277838</td>\n",
       "      <td>-0.110474</td>\n",
       "      <td>0.066928</td>\n",
       "      <td>0.128539</td>\n",
       "      <td>-0.189115</td>\n",
       "      <td>0.133558</td>\n",
       "      <td>-0.021053</td>\n",
       "      <td>149.62</td>\n",
       "      <td>0</td>\n",
       "    </tr>\n",
       "    <tr>\n",
       "      <th>1</th>\n",
       "      <td>0.0</td>\n",
       "      <td>1.191857</td>\n",
       "      <td>0.266151</td>\n",
       "      <td>0.166480</td>\n",
       "      <td>0.448154</td>\n",
       "      <td>0.060018</td>\n",
       "      <td>-0.082361</td>\n",
       "      <td>-0.078803</td>\n",
       "      <td>0.085102</td>\n",
       "      <td>-0.255425</td>\n",
       "      <td>...</td>\n",
       "      <td>-0.225775</td>\n",
       "      <td>-0.638672</td>\n",
       "      <td>0.101288</td>\n",
       "      <td>-0.339846</td>\n",
       "      <td>0.167170</td>\n",
       "      <td>0.125895</td>\n",
       "      <td>-0.008983</td>\n",
       "      <td>0.014724</td>\n",
       "      <td>2.69</td>\n",
       "      <td>0</td>\n",
       "    </tr>\n",
       "    <tr>\n",
       "      <th>2</th>\n",
       "      <td>1.0</td>\n",
       "      <td>-1.358354</td>\n",
       "      <td>-1.340163</td>\n",
       "      <td>1.773209</td>\n",
       "      <td>0.379780</td>\n",
       "      <td>-0.503198</td>\n",
       "      <td>1.800499</td>\n",
       "      <td>0.791461</td>\n",
       "      <td>0.247676</td>\n",
       "      <td>-1.514654</td>\n",
       "      <td>...</td>\n",
       "      <td>0.247998</td>\n",
       "      <td>0.771679</td>\n",
       "      <td>0.909412</td>\n",
       "      <td>-0.689281</td>\n",
       "      <td>-0.327642</td>\n",
       "      <td>-0.139097</td>\n",
       "      <td>-0.055353</td>\n",
       "      <td>-0.059752</td>\n",
       "      <td>378.66</td>\n",
       "      <td>0</td>\n",
       "    </tr>\n",
       "    <tr>\n",
       "      <th>3</th>\n",
       "      <td>1.0</td>\n",
       "      <td>-0.966272</td>\n",
       "      <td>-0.185226</td>\n",
       "      <td>1.792993</td>\n",
       "      <td>-0.863291</td>\n",
       "      <td>-0.010309</td>\n",
       "      <td>1.247203</td>\n",
       "      <td>0.237609</td>\n",
       "      <td>0.377436</td>\n",
       "      <td>-1.387024</td>\n",
       "      <td>...</td>\n",
       "      <td>-0.108300</td>\n",
       "      <td>0.005274</td>\n",
       "      <td>-0.190321</td>\n",
       "      <td>-1.175575</td>\n",
       "      <td>0.647376</td>\n",
       "      <td>-0.221929</td>\n",
       "      <td>0.062723</td>\n",
       "      <td>0.061458</td>\n",
       "      <td>123.50</td>\n",
       "      <td>0</td>\n",
       "    </tr>\n",
       "    <tr>\n",
       "      <th>4</th>\n",
       "      <td>2.0</td>\n",
       "      <td>-1.158233</td>\n",
       "      <td>0.877737</td>\n",
       "      <td>1.548718</td>\n",
       "      <td>0.403034</td>\n",
       "      <td>-0.407193</td>\n",
       "      <td>0.095921</td>\n",
       "      <td>0.592941</td>\n",
       "      <td>-0.270533</td>\n",
       "      <td>0.817739</td>\n",
       "      <td>...</td>\n",
       "      <td>-0.009431</td>\n",
       "      <td>0.798278</td>\n",
       "      <td>-0.137458</td>\n",
       "      <td>0.141267</td>\n",
       "      <td>-0.206010</td>\n",
       "      <td>0.502292</td>\n",
       "      <td>0.219422</td>\n",
       "      <td>0.215153</td>\n",
       "      <td>69.99</td>\n",
       "      <td>0</td>\n",
       "    </tr>\n",
       "  </tbody>\n",
       "</table>\n",
       "<p>5 rows × 31 columns</p>\n",
       "</div>"
      ],
      "text/plain": [
       "   Time        V1        V2        V3        V4        V5        V6        V7  \\\n",
       "0   0.0 -1.359807 -0.072781  2.536347  1.378155 -0.338321  0.462388  0.239599   \n",
       "1   0.0  1.191857  0.266151  0.166480  0.448154  0.060018 -0.082361 -0.078803   \n",
       "2   1.0 -1.358354 -1.340163  1.773209  0.379780 -0.503198  1.800499  0.791461   \n",
       "3   1.0 -0.966272 -0.185226  1.792993 -0.863291 -0.010309  1.247203  0.237609   \n",
       "4   2.0 -1.158233  0.877737  1.548718  0.403034 -0.407193  0.095921  0.592941   \n",
       "\n",
       "         V8        V9  ...         V21       V22       V23       V24  \\\n",
       "0  0.098698  0.363787  ...   -0.018307  0.277838 -0.110474  0.066928   \n",
       "1  0.085102 -0.255425  ...   -0.225775 -0.638672  0.101288 -0.339846   \n",
       "2  0.247676 -1.514654  ...    0.247998  0.771679  0.909412 -0.689281   \n",
       "3  0.377436 -1.387024  ...   -0.108300  0.005274 -0.190321 -1.175575   \n",
       "4 -0.270533  0.817739  ...   -0.009431  0.798278 -0.137458  0.141267   \n",
       "\n",
       "        V25       V26       V27       V28  Amount  Class  \n",
       "0  0.128539 -0.189115  0.133558 -0.021053  149.62      0  \n",
       "1  0.167170  0.125895 -0.008983  0.014724    2.69      0  \n",
       "2 -0.327642 -0.139097 -0.055353 -0.059752  378.66      0  \n",
       "3  0.647376 -0.221929  0.062723  0.061458  123.50      0  \n",
       "4 -0.206010  0.502292  0.219422  0.215153   69.99      0  \n",
       "\n",
       "[5 rows x 31 columns]"
      ]
     },
     "execution_count": 751,
     "metadata": {},
     "output_type": "execute_result"
    }
   ],
   "source": [
    "creditcard.head()"
   ]
  },
  {
   "cell_type": "markdown",
   "metadata": {},
   "source": [
    "# Are there null values in the data?"
   ]
  },
  {
   "cell_type": "code",
   "execution_count": 752,
   "metadata": {
    "collapsed": false
   },
   "outputs": [
    {
     "name": "stdout",
     "output_type": "stream",
     "text": [
      "Time      0\n",
      "V1        0\n",
      "V2        0\n",
      "V3        0\n",
      "V4        0\n",
      "V5        0\n",
      "V6        0\n",
      "V7        0\n",
      "V8        0\n",
      "V9        0\n",
      "V10       0\n",
      "V11       0\n",
      "V12       0\n",
      "V13       0\n",
      "V14       0\n",
      "V15       0\n",
      "V16       0\n",
      "V17       0\n",
      "V18       0\n",
      "V19       0\n",
      "V20       0\n",
      "V21       0\n",
      "V22       0\n",
      "V23       0\n",
      "V24       0\n",
      "V25       0\n",
      "V26       0\n",
      "V27       0\n",
      "V28       0\n",
      "Amount    0\n",
      "Class     0\n",
      "dtype: int64\n"
     ]
    }
   ],
   "source": [
    "print creditcard.isnull().sum()"
   ]
  },
  {
   "cell_type": "markdown",
   "metadata": {},
   "source": [
    "# What are the transaction amounts classified as fraud?\n"
   ]
  },
  {
   "cell_type": "code",
   "execution_count": 753,
   "metadata": {
    "collapsed": false
   },
   "outputs": [
    {
     "data": {
      "image/png": "[encoded data removed]",
      "text/plain": [
       "<matplotlib.figure.Figure at 0x7faf1eaa3550>"
      ]
     },
     "metadata": {},
     "output_type": "display_data"
    }
   ],
   "source": [
    "%matplotlib inline\n",
    "\n",
    "f, (ax1,ax2) = plt.subplots(2,1, sharex=True, figsize=(15,10))\n",
    "\n",
    "ax1.hist(creditcard.Amount[creditcard.Class == 1], bins = 20)\n",
    "ax1.set_title('Fraud')\n",
    "\n",
    "ax2.hist(creditcard.Amount[creditcard.Class == 0], bins = 20)\n",
    "ax2.set_title('Normal')\n",
    "\n",
    "plt.xlabel('$ Amount')\n",
    "plt.ylabel('Number of Transactions')\n",
    "plt.yscale('log')\n"
   ]
  },
  {
   "cell_type": "markdown",
   "metadata": {
    "collapsed": true
   },
   "source": [
    "# Fraudlent transactions were small amounts"
   ]
  },
  {
   "cell_type": "markdown",
   "metadata": {},
   "source": [
    "# Is there a relationship between TIme and Fraud."
   ]
  },
  {
   "cell_type": "code",
   "execution_count": 754,
   "metadata": {
    "collapsed": false
   },
   "outputs": [
    {
     "data": {
      "image/png": "[encoded data removed]",
      "text/plain": [
       "<matplotlib.figure.Figure at 0x7faf1f167950>"
      ]
     },
     "metadata": {},
     "output_type": "display_data"
    }
   ],
   "source": [
    "%matplotlib inline\n",
    "\n",
    "f, (ax1,ax2) = plt.subplots(2,1, sharex=True, figsize=(15,10))\n",
    "\n",
    "ax1.hist(creditcard.Time[creditcard.Class == 1], bins = 50)\n",
    "ax1.set_title('Fraud')\n",
    "\n",
    "ax2.hist(creditcard.Time[creditcard.Class == 0], bins = 50)\n",
    "ax2.set_title('Normal')\n",
    "\n",
    "plt.xlabel('Time Difference in transactions')\n",
    "plt.ylabel('Number of Transactions')\n",
    "plt.yscale('log')\n"
   ]
  },
  {
   "cell_type": "markdown",
   "metadata": {},
   "source": [
    "# There doesnt seem to be any correlation between time and fraud."
   ]
  },
  {
   "cell_type": "markdown",
   "metadata": {},
   "source": [
    "#lets try dropping the time column???"
   ]
  },
  {
   "cell_type": "code",
   "execution_count": 755,
   "metadata": {
    "collapsed": false
   },
   "outputs": [],
   "source": [
    "#creditcard.drop(['Time'], axis=1, inplace=True)"
   ]
  },
  {
   "cell_type": "code",
   "execution_count": 756,
   "metadata": {
    "collapsed": true
   },
   "outputs": [],
   "source": [
    "X_orig=creditcard.ix[:,0:-1]\n",
    "y_orig=creditcard.ix[:,'Class']"
   ]
  },
  {
   "cell_type": "code",
   "execution_count": 757,
   "metadata": {
    "collapsed": false
   },
   "outputs": [
    {
     "data": {
      "text/plain": [
       "0    284315\n",
       "1       492\n",
       "Name: Class, dtype: int64"
      ]
     },
     "execution_count": 757,
     "metadata": {},
     "output_type": "execute_result"
    }
   ],
   "source": [
    "creditcard.Class.value_counts()"
   ]
  },
  {
   "cell_type": "code",
   "execution_count": 758,
   "metadata": {
    "collapsed": false
   },
   "outputs": [
    {
     "data": {
      "text/plain": [
       "0.0017304750013189597"
      ]
     },
     "execution_count": 758,
     "metadata": {},
     "output_type": "execute_result"
    }
   ],
   "source": [
    "492/float(284315)"
   ]
  },
  {
   "cell_type": "markdown",
   "metadata": {},
   "source": [
    "#There is High imbalance in the Fraud and Normal Data...."
   ]
  },
  {
   "cell_type": "markdown",
   "metadata": {},
   "source": [
    "## Strategy: \n",
    "## Under-sampling the data..because of high imbalance ( Will try over-sampling in next steps)\n",
    "#undersampling to ( equal number of 1s and 0s)\n",
    "#1. Use Logistic Regression.\n",
    "#GridSearch for best logicisticregression parameters.\n",
    "#train test split the sample data.\n",
    "#fit the data., predict on whole data set.\n",
    "#check auc_roc curve , recall value. (Accuracy score is not important when there is high unbalance in the class...since it will be high)\n",
    "\n",
    "#2. Use RandomForestRegressor.\n",
    "#Fit with Sample Data. Use GridSearch to find the best values for RandomForest.\n",
    "#Use best values to fit the classifier.\n",
    "#Fit and Predict using sample values.\n",
    "#Check auc_roc_curve, recall_value.\n",
    "    \n",
    "#Fit and Predict using the whole data set.\n",
    "#check precision recall curve, recall value."
   ]
  },
  {
   "cell_type": "code",
   "execution_count": 759,
   "metadata": {
    "collapsed": true
   },
   "outputs": [],
   "source": [
    "import numpy as np"
   ]
  },
  {
   "cell_type": "code",
   "execution_count": 760,
   "metadata": {
    "collapsed": false
   },
   "outputs": [],
   "source": [
    "creditcard_0 = creditcard[creditcard.Class ==0].sample(frac=0.00173,replace=True).sample(frac=0.75, replace=True)\n",
    "creditcard_1 = creditcard[creditcard.Class ==1].sample(frac=0.75, replace=True)"
   ]
  },
  {
   "cell_type": "code",
   "execution_count": 761,
   "metadata": {
    "collapsed": false
   },
   "outputs": [
    {
     "name": "stdout",
     "output_type": "stream",
     "text": [
      "(369, 31)\n",
      "(369, 31)\n"
     ]
    }
   ],
   "source": [
    "print creditcard_0.shape\n",
    "print creditcard_1.shape"
   ]
  },
  {
   "cell_type": "code",
   "execution_count": 762,
   "metadata": {
    "collapsed": false
   },
   "outputs": [],
   "source": [
    "creditcard_sample = pd.concat([creditcard_0,creditcard_1])\n",
    "creditcard_sample = creditcard_sample.sample(frac=1).reset_index(drop=True)\n",
    "#print creditcard_sample.sort_values('Time')"
   ]
  },
  {
   "cell_type": "code",
   "execution_count": 763,
   "metadata": {
    "collapsed": false
   },
   "outputs": [
    {
     "data": {
      "text/plain": [
       "1    369\n",
       "0    369\n",
       "Name: Class, dtype: int64"
      ]
     },
     "execution_count": 763,
     "metadata": {},
     "output_type": "execute_result"
    }
   ],
   "source": [
    "X_sample=creditcard_sample.ix[:,0:-1]\n",
    "y_sample=creditcard_sample.ix[:,'Class']\n",
    "y_sample.value_counts()"
   ]
  },
  {
   "cell_type": "markdown",
   "metadata": {},
   "source": [
    "#See the 0/1 Sampled Dataset"
   ]
  },
  {
   "cell_type": "code",
   "execution_count": 764,
   "metadata": {
    "collapsed": false
   },
   "outputs": [
    {
     "data": {
      "text/plain": [
       "<matplotlib.text.Text at 0x7faf1f496a10>"
      ]
     },
     "execution_count": 764,
     "metadata": {},
     "output_type": "execute_result"
    },
    {
     "data": {
      "image/png": "[encoded data removed]",
      "text/plain": [
       "<matplotlib.figure.Figure at 0x7faf1f1b4590>"
      ]
     },
     "metadata": {},
     "output_type": "display_data"
    }
   ],
   "source": [
    "class_count = pd.value_counts(creditcard_sample['Class'], sort=True).sort_index()\n",
    "class_count.plot(kind='bar')\n",
    "plt.xlabel('fraud occurence')\n",
    "plt.ylabel('frequency')"
   ]
  },
  {
   "cell_type": "markdown",
   "metadata": {
    "collapsed": false
   },
   "source": [
    "#Lets train the model ...Save 20% for testing."
   ]
  },
  {
   "cell_type": "code",
   "execution_count": 765,
   "metadata": {
    "collapsed": false
   },
   "outputs": [],
   "source": [
    "X_train,X_test,y_train,y_test = train_test_split(X_sample,y_sample,test_size=0.2,random_state=42)"
   ]
  },
  {
   "cell_type": "code",
   "execution_count": 766,
   "metadata": {
    "collapsed": false,
    "scrolled": true
   },
   "outputs": [
    {
     "data": {
      "text/html": [
       "<div>\n",
       "<table border=\"1\" class=\"dataframe\">\n",
       "  <thead>\n",
       "    <tr style=\"text-align: right;\">\n",
       "      <th></th>\n",
       "      <th>Time</th>\n",
       "      <th>V1</th>\n",
       "      <th>V2</th>\n",
       "      <th>V3</th>\n",
       "      <th>V4</th>\n",
       "      <th>V5</th>\n",
       "      <th>V6</th>\n",
       "      <th>V7</th>\n",
       "      <th>V8</th>\n",
       "      <th>V9</th>\n",
       "      <th>...</th>\n",
       "      <th>V20</th>\n",
       "      <th>V21</th>\n",
       "      <th>V22</th>\n",
       "      <th>V23</th>\n",
       "      <th>V24</th>\n",
       "      <th>V25</th>\n",
       "      <th>V26</th>\n",
       "      <th>V27</th>\n",
       "      <th>V28</th>\n",
       "      <th>Amount</th>\n",
       "    </tr>\n",
       "  </thead>\n",
       "  <tbody>\n",
       "    <tr>\n",
       "      <th>260</th>\n",
       "      <td>35906.0</td>\n",
       "      <td>-3.519030</td>\n",
       "      <td>4.140867</td>\n",
       "      <td>-3.628202</td>\n",
       "      <td>5.505672</td>\n",
       "      <td>-4.057463</td>\n",
       "      <td>-0.905945</td>\n",
       "      <td>-6.652031</td>\n",
       "      <td>2.634524</td>\n",
       "      <td>-4.679402</td>\n",
       "      <td>...</td>\n",
       "      <td>0.898723</td>\n",
       "      <td>1.582556</td>\n",
       "      <td>0.778710</td>\n",
       "      <td>-0.135707</td>\n",
       "      <td>-0.004278</td>\n",
       "      <td>0.032706</td>\n",
       "      <td>0.362014</td>\n",
       "      <td>0.900925</td>\n",
       "      <td>0.554897</td>\n",
       "      <td>9.13</td>\n",
       "    </tr>\n",
       "    <tr>\n",
       "      <th>430</th>\n",
       "      <td>54932.0</td>\n",
       "      <td>0.834806</td>\n",
       "      <td>-0.527557</td>\n",
       "      <td>1.165588</td>\n",
       "      <td>1.384518</td>\n",
       "      <td>-1.014368</td>\n",
       "      <td>0.435886</td>\n",
       "      <td>-0.651651</td>\n",
       "      <td>0.372244</td>\n",
       "      <td>0.591982</td>\n",
       "      <td>...</td>\n",
       "      <td>0.011392</td>\n",
       "      <td>0.275949</td>\n",
       "      <td>0.642865</td>\n",
       "      <td>-0.137854</td>\n",
       "      <td>0.228956</td>\n",
       "      <td>0.294957</td>\n",
       "      <td>-0.252170</td>\n",
       "      <td>0.050961</td>\n",
       "      <td>0.042905</td>\n",
       "      <td>125.00</td>\n",
       "    </tr>\n",
       "    <tr>\n",
       "      <th>135</th>\n",
       "      <td>77247.0</td>\n",
       "      <td>1.145692</td>\n",
       "      <td>0.117006</td>\n",
       "      <td>-0.125420</td>\n",
       "      <td>0.558985</td>\n",
       "      <td>0.032449</td>\n",
       "      <td>-0.539126</td>\n",
       "      <td>0.248220</td>\n",
       "      <td>-0.225153</td>\n",
       "      <td>-0.059469</td>\n",
       "      <td>...</td>\n",
       "      <td>0.184940</td>\n",
       "      <td>-0.278797</td>\n",
       "      <td>-0.955844</td>\n",
       "      <td>-0.063204</td>\n",
       "      <td>-0.466008</td>\n",
       "      <td>0.326844</td>\n",
       "      <td>0.133993</td>\n",
       "      <td>-0.034833</td>\n",
       "      <td>0.039640</td>\n",
       "      <td>89.99</td>\n",
       "    </tr>\n",
       "    <tr>\n",
       "      <th>360</th>\n",
       "      <td>161182.0</td>\n",
       "      <td>0.144233</td>\n",
       "      <td>1.025195</td>\n",
       "      <td>-0.593335</td>\n",
       "      <td>-0.792215</td>\n",
       "      <td>1.296969</td>\n",
       "      <td>-0.190553</td>\n",
       "      <td>0.902427</td>\n",
       "      <td>0.032327</td>\n",
       "      <td>-0.372989</td>\n",
       "      <td>...</td>\n",
       "      <td>0.088306</td>\n",
       "      <td>-0.318542</td>\n",
       "      <td>-0.766164</td>\n",
       "      <td>0.004738</td>\n",
       "      <td>0.006392</td>\n",
       "      <td>-0.356233</td>\n",
       "      <td>0.126088</td>\n",
       "      <td>0.222751</td>\n",
       "      <td>0.070070</td>\n",
       "      <td>1.79</td>\n",
       "    </tr>\n",
       "    <tr>\n",
       "      <th>28</th>\n",
       "      <td>72461.0</td>\n",
       "      <td>1.165210</td>\n",
       "      <td>-0.132262</td>\n",
       "      <td>0.474439</td>\n",
       "      <td>1.230757</td>\n",
       "      <td>-0.134946</td>\n",
       "      <td>0.803867</td>\n",
       "      <td>-0.412015</td>\n",
       "      <td>0.252640</td>\n",
       "      <td>0.701152</td>\n",
       "      <td>...</td>\n",
       "      <td>-0.085387</td>\n",
       "      <td>-0.127143</td>\n",
       "      <td>-0.101496</td>\n",
       "      <td>-0.273102</td>\n",
       "      <td>-0.815222</td>\n",
       "      <td>0.803567</td>\n",
       "      <td>-0.234120</td>\n",
       "      <td>0.047506</td>\n",
       "      <td>0.007051</td>\n",
       "      <td>26.75</td>\n",
       "    </tr>\n",
       "  </tbody>\n",
       "</table>\n",
       "<p>5 rows × 30 columns</p>\n",
       "</div>"
      ],
      "text/plain": [
       "         Time        V1        V2        V3        V4        V5        V6  \\\n",
       "260   35906.0 -3.519030  4.140867 -3.628202  5.505672 -4.057463 -0.905945   \n",
       "430   54932.0  0.834806 -0.527557  1.165588  1.384518 -1.014368  0.435886   \n",
       "135   77247.0  1.145692  0.117006 -0.125420  0.558985  0.032449 -0.539126   \n",
       "360  161182.0  0.144233  1.025195 -0.593335 -0.792215  1.296969 -0.190553   \n",
       "28    72461.0  1.165210 -0.132262  0.474439  1.230757 -0.134946  0.803867   \n",
       "\n",
       "           V7        V8        V9   ...         V20       V21       V22  \\\n",
       "260 -6.652031  2.634524 -4.679402   ...    0.898723  1.582556  0.778710   \n",
       "430 -0.651651  0.372244  0.591982   ...    0.011392  0.275949  0.642865   \n",
       "135  0.248220 -0.225153 -0.059469   ...    0.184940 -0.278797 -0.955844   \n",
       "360  0.902427  0.032327 -0.372989   ...    0.088306 -0.318542 -0.766164   \n",
       "28  -0.412015  0.252640  0.701152   ...   -0.085387 -0.127143 -0.101496   \n",
       "\n",
       "          V23       V24       V25       V26       V27       V28  Amount  \n",
       "260 -0.135707 -0.004278  0.032706  0.362014  0.900925  0.554897    9.13  \n",
       "430 -0.137854  0.228956  0.294957 -0.252170  0.050961  0.042905  125.00  \n",
       "135 -0.063204 -0.466008  0.326844  0.133993 -0.034833  0.039640   89.99  \n",
       "360  0.004738  0.006392 -0.356233  0.126088  0.222751  0.070070    1.79  \n",
       "28  -0.273102 -0.815222  0.803567 -0.234120  0.047506  0.007051   26.75  \n",
       "\n",
       "[5 rows x 30 columns]"
      ]
     },
     "execution_count": 766,
     "metadata": {},
     "output_type": "execute_result"
    }
   ],
   "source": [
    "X_train.head()"
   ]
  },
  {
   "cell_type": "code",
   "execution_count": 767,
   "metadata": {
    "collapsed": true
   },
   "outputs": [],
   "source": [
    "from sklearn.linear_model import LogisticRegression\n",
    "from sklearn import metrics\n",
    "from sklearn.cross_validation import cross_val_score, cross_val_predict"
   ]
  },
  {
   "cell_type": "markdown",
   "metadata": {},
   "source": [
    "#False positive -.. not fraud ...classified as fraud.\n",
    "#False negative -  fraud....but not classified as fraud.\n",
    "#We need to minimize the False negatives...this will cause loss of money to business.  \n",
    "#recall_score = tp/tp+fn ~ => 1 should be maximized."
   ]
  },
  {
   "cell_type": "code",
   "execution_count": 768,
   "metadata": {
    "collapsed": false
   },
   "outputs": [
    {
     "data": {
      "text/plain": [
       "GridSearchCV(cv=10, error_score='raise',\n",
       "       estimator=LogisticRegression(C=1.0, class_weight=None, dual=False, fit_intercept=True,\n",
       "          intercept_scaling=1, max_iter=100, multi_class='ovr', n_jobs=1,\n",
       "          penalty='l2', random_state=42, solver='liblinear', tol=0.0001,\n",
       "          verbose=0, warm_start=False),\n",
       "       fit_params={}, iid=True, n_jobs=1,\n",
       "       param_grid={'C': [0.1, 0.5, 1.0, 10, 20, 30, 40, 50]},\n",
       "       pre_dispatch='2*n_jobs', refit=True, scoring='recall_micro',\n",
       "       verbose=0)"
      ]
     },
     "execution_count": 768,
     "metadata": {},
     "output_type": "execute_result"
    }
   ],
   "source": [
    "c_values = [0.1,0.5,1.0,10,20,30,40,50]\n",
    "logreg = LogisticRegression(random_state=42)\n",
    "param_grid = dict(C=c_values)\n",
    "grid = GridSearchCV(logreg, param_grid, cv=10, scoring='recall_micro')\n",
    "grid.fit(X_train,y_train)"
   ]
  },
  {
   "cell_type": "code",
   "execution_count": 769,
   "metadata": {
    "collapsed": false
   },
   "outputs": [
    {
     "data": {
      "text/plain": [
       "{'C': 0.5}"
      ]
     },
     "execution_count": 769,
     "metadata": {},
     "output_type": "execute_result"
    }
   ],
   "source": [
    "grid.best_params_"
   ]
  },
  {
   "cell_type": "code",
   "execution_count": 770,
   "metadata": {
    "collapsed": false
   },
   "outputs": [
    {
     "name": "stdout",
     "output_type": "stream",
     "text": [
      "0.929054054054\n"
     ]
    }
   ],
   "source": [
    "logreg = LogisticRegression(C=0.5,penalty = 'l2')\n",
    "y_predicted = cross_val_predict(logreg,X_train,y_train,cv=10)\n",
    "print metrics.recall_score(y_train,y_predicted)"
   ]
  },
  {
   "cell_type": "code",
   "execution_count": 771,
   "metadata": {
    "collapsed": false
   },
   "outputs": [
    {
     "data": {
      "text/plain": [
       "LogisticRegression(C=0.5, class_weight=None, dual=False, fit_intercept=True,\n",
       "          intercept_scaling=1, max_iter=100, multi_class='ovr', n_jobs=1,\n",
       "          penalty='l2', random_state=None, solver='liblinear', tol=0.0001,\n",
       "          verbose=0, warm_start=False)"
      ]
     },
     "execution_count": 771,
     "metadata": {},
     "output_type": "execute_result"
    }
   ],
   "source": [
    "logreg.fit(X_train,y_train)"
   ]
  },
  {
   "cell_type": "code",
   "execution_count": 772,
   "metadata": {
    "collapsed": false
   },
   "outputs": [
    {
     "name": "stdout",
     "output_type": "stream",
     "text": [
      "0.904109589041\n"
     ]
    }
   ],
   "source": [
    "y_predict_test = logreg.predict(X_test)\n",
    "print metrics.recall_score(y_test,y_predict_test)"
   ]
  },
  {
   "cell_type": "code",
   "execution_count": 773,
   "metadata": {
    "collapsed": false
   },
   "outputs": [
    {
     "data": {
      "text/plain": [
       "array([<matplotlib.axes._subplots.AxesSubplot object at 0x7faf1e9aa710>,\n",
       "       <matplotlib.axes._subplots.AxesSubplot object at 0x7faf1e98e6d0>], dtype=object)"
      ]
     },
     "execution_count": 773,
     "metadata": {},
     "output_type": "execute_result"
    },
    {
     "data": {
      "image/png": "[encoded data removed]",
      "text/plain": [
       "<matplotlib.figure.Figure at 0x7faf1e9aad10>"
      ]
     },
     "metadata": {},
     "output_type": "display_data"
    }
   ],
   "source": [
    "# histogram of predicted probabilities grouped by actual response value\n",
    "df = pd.DataFrame(data = {'probability':y_predict_test, 'actual':y_test})\n",
    "df.probability.hist(by=df.actual, sharex=True, sharey=True)"
   ]
  },
  {
   "cell_type": "code",
   "execution_count": 774,
   "metadata": {
    "collapsed": false
   },
   "outputs": [
    {
     "name": "stdout",
     "output_type": "stream",
     "text": [
      "0.90243902439\n"
     ]
    }
   ],
   "source": [
    "logreg.fit(X_train,y_train)\n",
    "y_predicted = logreg.predict(X_orig)\n",
    "print metrics.recall_score(y_orig,y_predicted)"
   ]
  },
  {
   "cell_type": "code",
   "execution_count": 775,
   "metadata": {
    "collapsed": false
   },
   "outputs": [
    {
     "name": "stdout",
     "output_type": "stream",
     "text": [
      "[[277689   6626]\n",
      " [    48    444]]\n"
     ]
    }
   ],
   "source": [
    "print metrics.confusion_matrix(y_orig,y_predicted)"
   ]
  },
  {
   "cell_type": "code",
   "execution_count": 776,
   "metadata": {
    "collapsed": false
   },
   "outputs": [
    {
     "name": "stdout",
     "output_type": "stream",
     "text": [
      "[ 0.46852553  0.48218684  0.39326202 ...,  0.03763134  0.01869092\n",
      "  0.01232185]\n"
     ]
    }
   ],
   "source": [
    "# predict probability of survival\n",
    "y_pred_prob = logreg.predict_proba(X_orig)[:,1]\n",
    "print y_pred_prob"
   ]
  },
  {
   "cell_type": "code",
   "execution_count": 777,
   "metadata": {
    "collapsed": false
   },
   "outputs": [
    {
     "name": "stdout",
     "output_type": "stream",
     "text": [
      "0.969987356575\n"
     ]
    }
   ],
   "source": [
    "print metrics.roc_auc_score(y_orig,y_pred_prob)"
   ]
  },
  {
   "cell_type": "markdown",
   "metadata": {},
   "source": [
    "##93% recall score is pretty good... and 98% ROC_AUC_Score...means good balance between Sensitivity and Specificity"
   ]
  },
  {
   "cell_type": "markdown",
   "metadata": {},
   "source": [
    "#Lets see hows the balance between Sensitivity and Specificity??"
   ]
  },
  {
   "cell_type": "code",
   "execution_count": 778,
   "metadata": {
    "collapsed": false
   },
   "outputs": [],
   "source": [
    "precision = dict()\n",
    "recall = dict()\n",
    "average_precision = dict()\n",
    "precision[\"micro\"], recall[\"micro\"], _ = metrics.precision_recall_curve(y_orig.ravel(),y_predicted.ravel())\n",
    "average_precision[\"micro\"] = metrics.average_precision_score(y_orig, y_predicted,\n",
    "                                                     average=\"micro\")"
   ]
  },
  {
   "cell_type": "code",
   "execution_count": 779,
   "metadata": {
    "collapsed": false
   },
   "outputs": [
    {
     "data": {
      "text/plain": [
       "(0.0, 1.05)"
      ]
     },
     "execution_count": 779,
     "metadata": {},
     "output_type": "execute_result"
    },
    {
     "data": {
      "image/png": "[encoded data removed]",
      "text/plain": [
       "<matplotlib.figure.Figure at 0x7faf1e7d0cd0>"
      ]
     },
     "metadata": {},
     "output_type": "display_data"
    }
   ],
   "source": [
    "plt.clf()\n",
    "plt.plot(recall[\"micro\"], precision[\"micro\"], color='gold', lw=2,\n",
    "         label='micro-average Precision-recall curve (area = {0:0.2f})'\n",
    "               ''.format(average_precision[\"micro\"]))\n",
    "plt.xlabel('Recall')\n",
    "plt.ylabel('Precision')\n",
    "plt.ylim([0.0, 1.05])\n",
    "plt.xlim([0.0, 1.05])"
   ]
  },
  {
   "cell_type": "code",
   "execution_count": 780,
   "metadata": {
    "collapsed": false
   },
   "outputs": [
    {
     "data": {
      "text/plain": [
       "<matplotlib.text.Text at 0x7faf1e6b4e90>"
      ]
     },
     "execution_count": 780,
     "metadata": {},
     "output_type": "execute_result"
    },
    {
     "data": {
      "image/png": "[encoded data removed]",
      "text/plain": [
       "<matplotlib.figure.Figure at 0x7faf1e76d750>"
      ]
     },
     "metadata": {},
     "output_type": "display_data"
    }
   ],
   "source": [
    "# plot ROC curve\n",
    "fpr, tpr, thresholds = metrics.roc_curve(y_orig, y_pred_prob)\n",
    "plt.plot(fpr, tpr)\n",
    "plt.xlim([0.0, 1.0])\n",
    "plt.ylim([0.0, 1.0])\n",
    "plt.xlabel('False Positive Rate (1 - Specificity)')\n",
    "plt.ylabel('True Positive Rate (Sensitivity)')"
   ]
  },
  {
   "cell_type": "code",
   "execution_count": 781,
   "metadata": {
    "collapsed": false
   },
   "outputs": [
    {
     "data": {
      "text/plain": [
       "0    284315\n",
       "1       492\n",
       "Name: Class, dtype: int64"
      ]
     },
     "execution_count": 781,
     "metadata": {},
     "output_type": "execute_result"
    }
   ],
   "source": [
    "y_orig.value_counts()"
   ]
  },
  {
   "cell_type": "code",
   "execution_count": 782,
   "metadata": {
    "collapsed": false
   },
   "outputs": [],
   "source": [
    "#Sniff test\n",
    "cc =  creditcard[creditcard.Class ==1]\n",
    "y_pred = logreg.predict(cc.iloc[0:100,:-1])"
   ]
  },
  {
   "cell_type": "code",
   "execution_count": 783,
   "metadata": {
    "collapsed": false
   },
   "outputs": [
    {
     "name": "stdout",
     "output_type": "stream",
     "text": [
      "[1 1 1 1 1 1 1 1 1 1 1 1 1 1 1 1 1 1 1 1 1 1 1 1 1 1 1 1 1 1 1 1 1 1 1 1 1\n",
      " 1 1 1 1 0 1 1 1 1 1 1 1 1 1 1 1 1 1 1 1 1 1 1 1 1 1 1 1 1 1 1 1 1 1 1 1 1\n",
      " 1 1 1 1 1 1 1 1 1 1 1 1 1 1 1 0 1 1 1 1 1 1 1 1 1 1]\n"
     ]
    }
   ],
   "source": [
    "print y_pred"
   ]
  },
  {
   "cell_type": "code",
   "execution_count": 784,
   "metadata": {
    "collapsed": true
   },
   "outputs": [],
   "source": [
    "#Predict using decision forest ensemble"
   ]
  },
  {
   "cell_type": "code",
   "execution_count": 746,
   "metadata": {
    "collapsed": true
   },
   "outputs": [],
   "source": [
    "from sklearn.ensemble import RandomForestRegressor\n",
    "from sklearn.grid_search import GridSearchCV\n"
   ]
  },
  {
   "cell_type": "markdown",
   "metadata": {},
   "source": [
    "# Warning - It took 1hour, 10 mins - for the Grid Search."
   ]
  },
  {
   "cell_type": "markdown",
   "metadata": {},
   "source": [
    "#Lets fidn the best parameters for RandomForest by GridSearch"
   ]
  },
  {
   "cell_type": "code",
   "execution_count": 547,
   "metadata": {
    "collapsed": false
   },
   "outputs": [
    {
     "data": {
      "text/plain": [
       "GridSearchCV(cv=10, error_score='raise',\n",
       "       estimator=RandomForestRegressor(bootstrap=True, criterion='mse', max_depth=None,\n",
       "           max_features='auto', max_leaf_nodes=None,\n",
       "           min_impurity_split=1e-07, min_samples_leaf=1,\n",
       "           min_samples_split=2, min_weight_fraction_leaf=0.0,\n",
       "           n_estimators=10, n_jobs=-1, oob_score=False, random_state=1,\n",
       "           verbose=0, warm_start=False),\n",
       "       fit_params={}, iid=True, n_jobs=1,\n",
       "       param_grid={'n_estimators': [50, 60, 70, 80, 90], 'max_depth': [1, 2, 3, 4, 5, 6, 7, 8, 9, 10, 11, 12, 13, 14, 15, 16, 17, 18, 19], 'min_samples_leaf': [1, 2, 3, 4, 5, 6, 7, 8, 9]},\n",
       "       pre_dispatch='2*n_jobs', refit=True, scoring=None, verbose=0)"
      ]
     },
     "execution_count": 547,
     "metadata": {},
     "output_type": "execute_result"
    }
   ],
   "source": [
    "max_depth_range = range(1, 20)\n",
    "n_est = range(50,100,10)\n",
    "min_samp_leaf=range(1,10)\n",
    "param_grid_search = dict(max_depth=max_depth_range,n_estimators=n_est,min_samples_leaf=min_samp_leaf)\n",
    "\n",
    "rfreg = RandomForestRegressor(random_state=1,n_jobs=-1)\n",
    "grid = GridSearchCV(rfreg,param_grid_search,cv=10)\n",
    "grid.fit(X_train,y_train)"
   ]
  },
  {
   "cell_type": "code",
   "execution_count": 548,
   "metadata": {
    "collapsed": false
   },
   "outputs": [
    {
     "name": "stdout",
     "output_type": "stream",
     "text": [
      "0.875706850738\n",
      "{'n_estimators': 80, 'max_depth': 14, 'min_samples_leaf': 1}\n"
     ]
    }
   ],
   "source": [
    "print grid.best_score_\n",
    "print grid.best_params_"
   ]
  },
  {
   "cell_type": "markdown",
   "metadata": {},
   "source": [
    "#Fit with best params"
   ]
  },
  {
   "cell_type": "code",
   "execution_count": 161,
   "metadata": {
    "collapsed": false
   },
   "outputs": [],
   "source": [
    "rfreg=RandomForestRegressor(n_estimators=80,max_depth=14,min_samples_leaf=1,n_jobs=-1,random_state=1)"
   ]
  },
  {
   "cell_type": "code",
   "execution_count": 162,
   "metadata": {
    "collapsed": false
   },
   "outputs": [
    {
     "name": "stdout",
     "output_type": "stream",
     "text": [
      "0.745819397993\n"
     ]
    }
   ],
   "source": [
    "y_predicted = cross_val_predict(rfreg,X_train,y_train,cv=10).astype(int)\n",
    "print metrics.recall_score(y_train,y_predicted)"
   ]
  },
  {
   "cell_type": "code",
   "execution_count": 553,
   "metadata": {
    "collapsed": false
   },
   "outputs": [
    {
     "name": "stdout",
     "output_type": "stream",
     "text": [
      "0.741869918699\n"
     ]
    }
   ],
   "source": [
    "rfreg.fit(X_train,y_train)\n",
    "y_predicted = rfreg.predict(X_orig).astype(int)\n",
    "print metrics.recall_score(y_orig,y_predicted)"
   ]
  },
  {
   "cell_type": "code",
   "execution_count": 554,
   "metadata": {
    "collapsed": false
   },
   "outputs": [
    {
     "name": "stdout",
     "output_type": "stream",
     "text": [
      "[[284237     78]\n",
      " [   127    365]]\n",
      "0.870797787551\n"
     ]
    }
   ],
   "source": [
    "print metrics.confusion_matrix(y_orig,y_predicted)\n",
    "print metrics.roc_auc_score(y_orig,y_predicted)"
   ]
  },
  {
   "cell_type": "code",
   "execution_count": 555,
   "metadata": {
    "collapsed": false
   },
   "outputs": [
    {
     "data": {
      "text/plain": [
       "(284807, 30)"
      ]
     },
     "execution_count": 555,
     "metadata": {},
     "output_type": "execute_result"
    }
   ],
   "source": [
    "X_orig.shape"
   ]
  },
  {
   "cell_type": "markdown",
   "metadata": {},
   "source": [
    "##RandomForestRegressor is overfitting in both trainging and testing...Why????\n",
    "##May be the number of features are not enough??"
   ]
  },
  {
   "cell_type": "code",
   "execution_count": 220,
   "metadata": {
    "collapsed": true
   },
   "outputs": [],
   "source": [
    "#Trying Decision tree with Bagging."
   ]
  },
  {
   "cell_type": "code",
   "execution_count": null,
   "metadata": {
    "collapsed": true
   },
   "outputs": [],
   "source": []
  },
  {
   "cell_type": "code",
   "execution_count": null,
   "metadata": {
    "collapsed": true
   },
   "outputs": [],
   "source": []
  },
  {
   "cell_type": "code",
   "execution_count": null,
   "metadata": {
    "collapsed": true
   },
   "outputs": [],
   "source": []
  },
  {
   "cell_type": "code",
   "execution_count": null,
   "metadata": {
    "collapsed": true
   },
   "outputs": [],
   "source": []
  },
  {
   "cell_type": "code",
   "execution_count": null,
   "metadata": {
    "collapsed": true
   },
   "outputs": [],
   "source": []
  },
  {
   "cell_type": "code",
   "execution_count": null,
   "metadata": {
    "collapsed": true
   },
   "outputs": [],
   "source": []
  },
  {
   "cell_type": "code",
   "execution_count": null,
   "metadata": {
    "collapsed": true
   },
   "outputs": [],
   "source": []
  },
  {
   "cell_type": "code",
   "execution_count": null,
   "metadata": {
    "collapsed": true
   },
   "outputs": [],
   "source": []
  },
  {
   "cell_type": "code",
   "execution_count": null,
   "metadata": {
    "collapsed": true
   },
   "outputs": [],
   "source": []
  },
  {
   "cell_type": "code",
   "execution_count": null,
   "metadata": {
    "collapsed": true
   },
   "outputs": [],
   "source": []
  }
 ],
 "metadata": {
  "kernelspec": {
   "display_name": "Python 2",
   "language": "python",
   "name": "python2"
  },
  "language_info": {
   "codemirror_mode": {
    "name": "ipython",
    "version": 2
   },
   "file_extension": ".py",
   "mimetype": "text/x-python",
   "name": "python",
   "nbconvert_exporter": "python",
   "pygments_lexer": "ipython2",
   "version": "2.7.13"
  }
 },
 "nbformat": 4,
 "nbformat_minor": 2
}
